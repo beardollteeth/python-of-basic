{
 "cells": [
  {
   "cell_type": "code",
   "execution_count": 1,
   "id": "64880854-f351-4089-b641-5ea0bd92f520",
   "metadata": {},
   "outputs": [
    {
     "name": "stdout",
     "output_type": "stream",
     "text": [
      "<class 'int'> 1\n",
      "<class 'str'> hello\n",
      "<class 'list'> [1, 2, 3]\n",
      "<class 'tuple'> (1, 2, 3)\n",
      "<class 'dict'> {'a': 1, 'b': 2, 'c': 3}\n",
      "<class 'bool'> True\n",
      "<class 'int'> 100\n",
      "<class 'int'> 100\n"
     ]
    }
   ],
   "source": [
    "# 대입 연산자(=)를 이용한 변수 값 대입\n",
    "a = 1\n",
    "b = \"hello\"\n",
    "c = [1, 2, 3]\n",
    "d = (1, 2, 3)\n",
    "e = {\"a\":1, \"b\":2, \"c\":3}\n",
    "f = True\n",
    "x = y = 100\n",
    "print(type(a), a)\n",
    "print(type(b), b)\n",
    "print(type(c), c)\n",
    "print(type(d), d)\n",
    "print(type(e), e)\n",
    "print(type(f), f)\n",
    "print(type(x), x)\n",
    "print(type(y), y)"
   ]
  },
  {
   "cell_type": "code",
   "execution_count": 3,
   "id": "2bdf5d1c-bddd-4454-8f0c-82303dd56f94",
   "metadata": {},
   "outputs": [
    {
     "name": "stdout",
     "output_type": "stream",
     "text": [
      "a 변수가 가리키고 있는 메모리 주소: 2360945425344 [1, 2, 3]\n"
     ]
    }
   ],
   "source": [
    "# 변수에 대입한 객체 메모리 주소 확인\n",
    "a = [1, 2, 3]\n",
    "print(\"a 변수가 가리키고 있는 메모리 주소:\", id(a),a)"
   ]
  },
  {
   "cell_type": "code",
   "execution_count": 3,
   "id": "bffcf59a-75a6-4082-a0e4-6690a5d23801",
   "metadata": {},
   "outputs": [
    {
     "name": "stdout",
     "output_type": "stream",
     "text": [
      "a 변수가 가리키고 있는 메모리 주소: 2703309766080 [1, 2, 3]\n",
      "b 변수가 가리키고 있는 메모리 주소: 2703309766080 [1, 2, 3]\n",
      "a 와 b 는 같은가요? True\n"
     ]
    }
   ],
   "source": [
    "# 변수를 복사할 경우, 메모리 주소 확인\n",
    "a = [1, 2, 3]\n",
    "b = a\n",
    "print(\"a 변수가 가리키고 있는 메모리 주소:\", id(a),a)\n",
    "print(\"b 변수가 가리키고 있는 메모리 주소:\", id(b),b)\n",
    "print(\"a 와 b 는 같은가요?\", a is b)"
   ]
  },
  {
   "cell_type": "code",
   "execution_count": 7,
   "id": "05b830ce-d50a-47d9-88be-f3b79f2c1994",
   "metadata": {},
   "outputs": [
    {
     "name": "stdout",
     "output_type": "stream",
     "text": [
      "a 변수가 가리키고 있는 메모리 주소: 2703309859904 [1, 22, 33]\n",
      "b 변수가 가리키고 있는 메모리 주소: 2703309859904 [1, 22, 33]\n",
      "a 와 b 는 같은가요? True\n"
     ]
    }
   ],
   "source": [
    "# a, b 변수값을 변경 할 경우, 메모리 주소 확인\n",
    "a = [1, 2, 3]\n",
    "b = a\n",
    "a[1] = 22\n",
    "b[2] = 33\n",
    "print(\"a 변수가 가리키고 있는 메모리 주소:\",  id(a),a)\n",
    "print(\"b 변수가 가리키고 있는 메모리 주소:\",  id(b),b)\n",
    "print(\"a 와 b 는 같은가요?\", a is b)"
   ]
  },
  {
   "cell_type": "code",
   "execution_count": 9,
   "id": "fafd8fe0-a898-4477-b70a-2460c8449f66",
   "metadata": {},
   "outputs": [
    {
     "name": "stdout",
     "output_type": "stream",
     "text": [
      "a 변수가 가리키고 있는 메모리 주소: 2703309760512 [1, 22, 3]\n",
      "b 변수가 가리키고 있는 메모리 주소: 2703309750336 [1, 2, 33]\n",
      "a 와 b는 같은건가요? False\n"
     ]
    }
   ],
   "source": [
    "# [:] 슬라이싱을 이용한 변수 복사 및 변경시 메모리 주소 확인\n",
    "a = [1, 2, 3]\n",
    "b = a[:]\n",
    "a[1] = 22\n",
    "b[2] = 33\n",
    "print(\"a 변수가 가리키고 있는 메모리 주소:\", id(a),a)\n",
    "print(\"b 변수가 가리키고 있는 메모리 주소:\", id(b),b)\n",
    "print(\"a 와 b는 같은건가요?\" , a is b)"
   ]
  },
  {
   "cell_type": "code",
   "execution_count": 2,
   "id": "957057b5-6638-4002-b43c-e7ff3aeb96e7",
   "metadata": {},
   "outputs": [
    {
     "name": "stdout",
     "output_type": "stream",
     "text": [
      "a 변수가 가리키고 있는 메모리 주소: 1776650623104 [1, 22, 3]\n",
      "b 변수가 가리키고 있는 메모리 주소: 1776650623488 [1, 2, 33]\n",
      "a 와 b는 같은건가요? False\n"
     ]
    }
   ],
   "source": [
    "#copy() 함수를 이용한 변수 복사 및 변경 및 메모리 주소 확인\n",
    "from copy import copy\n",
    "a = [1, 2, 3]\n",
    "b = copy(a)\n",
    "a[1] = 22\n",
    "b[2] = 33\n",
    "print(\"a 변수가 가리키고 있는 메모리 주소:\", id(a),a)\n",
    "print(\"b 변수가 가리키고 있는 메모리 주소:\", id(b),b)\n",
    "print(\"a 와 b는 같은건가요?\", a is b)"
   ]
  },
  {
   "cell_type": "code",
   "execution_count": 4,
   "id": "e591f582-02c6-47fb-9ba1-5d821eb61399",
   "metadata": {},
   "outputs": [
    {
     "name": "stdout",
     "output_type": "stream",
     "text": [
      "[변수 값 교환 전]\n",
      "a 변수가 가리키고 있는 메모리 주소: 140736921877080 6\n",
      "b 변수가 가리키고 있는 메모리 주소: 140736921876952 2\n",
      "[변수 값 교환 후]\n",
      "a 변수가 가리키고 있는 메모리 주소: 140736921876952 2\n",
      "b 변수가 가리키고 있는 메모리 주소: 140736921877080 6\n"
     ]
    }
   ],
   "source": [
    "# 변수 값 교환시 메모리 주소 확인\n",
    "a = 6\n",
    "b = 2\n",
    "print(\"[변수 값 교환 전]\")\n",
    "print(\"a 변수가 가리키고 있는 메모리 주소:\", id(a),a)\n",
    "print(\"b 변수가 가리키고 있는 메모리 주소:\", id(b),b)\n",
    "a,b = b,a\n",
    "print(\"[변수 값 교환 후]\")\n",
    "print(\"a 변수가 가리키고 있는 메모리 주소:\", id(a),a)\n",
    "print(\"b 변수가 가리키고 있는 메모리 주소:\", id(b),b)"
   ]
  },
  {
   "cell_type": "code",
   "execution_count": 10,
   "id": "1d905d23-6028-4c52-926b-21efb5d2990b",
   "metadata": {},
   "outputs": [
    {
     "ename": "NameError",
     "evalue": "name 'Fa' is not defined",
     "output_type": "error",
     "traceback": [
      "\u001b[1;31m---------------------------------------------------------------------------\u001b[0m",
      "\u001b[1;31mNameError\u001b[0m                                 Traceback (most recent call last)",
      "Cell \u001b[1;32mIn[10], line 5\u001b[0m\n\u001b[0;32m      2\u001b[0m \u001b[38;5;28;01mdef\u001b[39;00m \u001b[38;5;21mFunc\u001b[39m():\n\u001b[0;32m      3\u001b[0m     Fa \u001b[38;5;241m=\u001b[39m \u001b[38;5;124m\"\u001b[39m\u001b[38;5;124m지역 변수\u001b[39m\u001b[38;5;124m\"\u001b[39m\n\u001b[1;32m----> 5\u001b[0m \u001b[38;5;28mprint\u001b[39m(Fa)\n",
      "\u001b[1;31mNameError\u001b[0m: name 'Fa' is not defined"
     ]
    }
   ],
   "source": [
    "# 지역 변수는 다른 지역에서 사용할 수 없음\n",
    "def Func():\n",
    "    Fa = \"지역 변수\"\n",
    "\n",
    "print(Fa)"
   ]
  },
  {
   "cell_type": "code",
   "execution_count": 14,
   "id": "422e3d7d-177d-4491-8f3e-c3918a45cb40",
   "metadata": {},
   "outputs": [
    {
     "name": "stdout",
     "output_type": "stream",
     "text": [
      "지역 변수\n"
     ]
    }
   ],
   "source": [
    "def Func():\n",
    "    Fa = \"지역 변수\"\n",
    "    print(Fa)\n",
    "Func()"
   ]
  },
  {
   "cell_type": "code",
   "execution_count": 16,
   "id": "61071a41-a4f9-4cfd-85ca-134f65b8da61",
   "metadata": {},
   "outputs": [
    {
     "name": "stdout",
     "output_type": "stream",
     "text": [
      "함수 안에서 전역 변수 사용 가능\n",
      "다른 영역에서도 전역 변수 사용 가능\n"
     ]
    }
   ],
   "source": [
    "# 전역 변수는 함수 및 다른 영역에서 사용 가능\n",
    "a = \"전역 변수\"\n",
    "\n",
    "def Func():\n",
    "    print(f\"함수 안에서 {a} 사용 가능\")\n",
    "\n",
    "Func()\n",
    "print(f\"다른 영역에서도 {a} 사용 가능\")"
   ]
  },
  {
   "cell_type": "code",
   "execution_count": 18,
   "id": "15885b16-c531-4225-9dfc-b66d274fc4df",
   "metadata": {},
   "outputs": [
    {
     "name": "stdout",
     "output_type": "stream",
     "text": [
      "지역 변수\n",
      "전역 변수\n"
     ]
    }
   ],
   "source": [
    "# 지역 변수와 전역 변수 구분 이해\n",
    "a = \"전역 변수\"\n",
    "\n",
    "def Func():\n",
    "    a = \"지역 변수\"\n",
    "    print(a)\n",
    "\n",
    "Func()\n",
    "print(a)"
   ]
  },
  {
   "cell_type": "code",
   "execution_count": 20,
   "id": "97df909a-96bc-4ba0-8382-69d384e4a0a4",
   "metadata": {},
   "outputs": [
    {
     "name": "stdout",
     "output_type": "stream",
     "text": [
      "전역 변수 사용 가능\n"
     ]
    }
   ],
   "source": [
    "# 'global'을 이용한 함수 안에서 전역 변수 선언\n",
    "def Func():\n",
    "    global a\n",
    "    a = \"전역 변수 사용 가능\"\n",
    "\n",
    "Func()\n",
    "print(a)"
   ]
  },
  {
   "cell_type": "code",
   "execution_count": null,
   "id": "dcce6e45-5d41-425e-9fdd-d72198c4971b",
   "metadata": {},
   "outputs": [],
   "source": [
    "# 컴퓨터에서 음수를 처리하는 방법\n",
    "\"\"\"\n",
    "00000000 -> +0\n",
    "00000001 -> +1\n",
    "00000010 -> +2\n",
    "    ~\n",
    "01111111 -> +127\n",
    "\n",
    "10000000 -> -0\n",
    "10000001 -> -1\n",
    "10000010 -> -2\n",
    "    ~\n",
    "11111111 -> -127\n",
    "\"\"\""
   ]
  },
  {
   "cell_type": "code",
   "execution_count": 2,
   "id": "f5f854d0-074d-4b47-8878-d95195751351",
   "metadata": {},
   "outputs": [
    {
     "name": "stdout",
     "output_type": "stream",
     "text": [
      "7 + 2 =  9\n",
      "7 - 2 =  5\n",
      "7 * 2 =  14\n",
      "7 / 2 =  3.5\n",
      "7^2 =  49\n",
      "7 / 2 몫 =  3\n",
      "7 / 2 나머지 =  1\n"
     ]
    }
   ],
   "source": [
    "# 산술 연산자\n",
    "a = 7\n",
    "b = 2\n",
    "print(\"7 + 2 = \", a + b)\n",
    "print(\"7 - 2 = \", a - b)\n",
    "print(\"7 * 2 = \", a * b)\n",
    "print(\"7 / 2 = \", a / b)\n",
    "print(\"7^2 = \", a ** b)\n",
    "print(\"7 / 2 몫 = \", a // b)\n",
    "print(\"7 / 2 나머지 = \", a % b)\n"
   ]
  },
  {
   "cell_type": "code",
   "execution_count": 10,
   "id": "c6c430d9-8818-4f55-998b-dfe22b7aab0b",
   "metadata": {},
   "outputs": [
    {
     "name": "stdout",
     "output_type": "stream",
     "text": [
      " = 할당 연산자 결과: a =  7\n",
      " += 할당 연산자 결과: a =  9\n",
      " -= 할당 연산자 결과: a =  7\n",
      " *= 할당 연산자 결과: a =  14\n",
      " /= 할당 연산자 결과: a =  7.0\n",
      " **= 할당 연산자 결과: a =  49.0\n",
      " //= 할당 연산자 결과: a =  16.0\n",
      " %= 할당 연산자 결과: a =  1.0\n"
     ]
    }
   ],
   "source": [
    "# 할당 연산자\n",
    "a = 7\n",
    "print(\" = 할당 연산자 결과: a = \", a)\n",
    "a += 2\n",
    "print(\" += 할당 연산자 결과: a = \", a)\n",
    "a -= 2\n",
    "print(\" -= 할당 연산자 결과: a = \", a)\n",
    "a *= 2\n",
    "print(\" *= 할당 연산자 결과: a = \", a)\n",
    "a /= 2\n",
    "print(\" /= 할당 연산자 결과: a = \", a)\n",
    "a **= 2\n",
    "print(\" **= 할당 연산자 결과: a = \", a)\n",
    "a //= 3\n",
    "print(\" //= 할당 연산자 결과: a = \", a)\n",
    "a %= 3\n",
    "print(\" %= 할당 연산자 결과: a = \", a)"
   ]
  },
  {
   "cell_type": "code",
   "execution_count": 12,
   "id": "eceb3b0e-c829-4786-9d27-efde3c4d213a",
   "metadata": {},
   "outputs": [
    {
     "name": "stdout",
     "output_type": "stream",
     "text": [
      "2 < 6: True\n",
      "2 > 6: False\n",
      "2 <= 6: True\n",
      "2 >= 6: False\n",
      "2 == 6: False\n",
      "2 != 6: True\n"
     ]
    }
   ],
   "source": [
    "# 비교 연산자\n",
    "print(\"2 < 6:\", 2 < 6)\n",
    "print(\"2 > 6:\", 2 > 6)\n",
    "print(\"2 <= 6:\", 2 <= 6)\n",
    "print(\"2 >= 6:\", 2 >= 6)\n",
    "print(\"2 == 6:\", 2 == 6)\n",
    "print(\"2 != 6:\", 2 != 6)"
   ]
  },
  {
   "cell_type": "code",
   "execution_count": 16,
   "id": "359d4f90-bcfb-46d1-9c66-2c0f8320ef5e",
   "metadata": {},
   "outputs": [
    {
     "name": "stdout",
     "output_type": "stream",
     "text": [
      "[and 놀리 연산자]\n",
      "참 and 참: True\n",
      "참 and 거짓: False\n",
      "거짓 and 거짓: False\n",
      "\n",
      "\n",
      "[or 놀리 연산자]\n",
      "참 or 참: True\n",
      "참 or 거짓: True\n",
      "거짓 or 거짓: False\n",
      "\n",
      "\n",
      "[not 놀리 연산자]\n",
      "not 거짓: True\n",
      "not 참: False\n"
     ]
    }
   ],
   "source": [
    "# 논리 연산자\n",
    "print(\"[and 놀리 연산자]\")\n",
    "print(\"참 and 참:\", 6 > 2 and 7 > 3)\n",
    "print(\"참 and 거짓:\", 6 > 2 and 7 < 3)\n",
    "print(\"거짓 and 거짓:\", 6 < 2 and 7 < 3)\n",
    "print(\"\\n\")\n",
    "print(\"[or 놀리 연산자]\")\n",
    "print(\"참 or 참:\", 6 > 2 or 7 > 3)\n",
    "print(\"참 or 거짓:\", 6 > 2 or 7 < 3)\n",
    "print(\"거짓 or 거짓:\", 6 < 2 or 7 < 3)\n",
    "print(\"\\n\")\n",
    "print(\"[not 놀리 연산자]\")\n",
    "print(\"not 거짓:\", not 6 < 2)\n",
    "print(\"not 참:\", not 6 > 2)"
   ]
  },
  {
   "cell_type": "code",
   "execution_count": 46,
   "id": "9d7d7118-4c51-4fa8-bf74-241907c58450",
   "metadata": {},
   "outputs": [
    {
     "name": "stdout",
     "output_type": "stream",
     "text": [
      "a     =  170  | 2 진수: 0b10101010   | 10 진수 170\n",
      "b     =  115  | 2 진수: 0b1110011    | 10 진수 115\n",
      "a & b =  34   | 2 진수: 0b100010     | 10 진수 34\n",
      "a | b =  251  | 2 진수: 0b11111011   | 10 진수 251\n",
      "a ^ b =  217  | 2 진수: 0b11011001   | 10 진수 217\n",
      "~b    =  -116 | 2 진수: -0b1110100   | 10 진수 -116\n",
      "a<<2  =  680  | 2 진수: 0b1010101000 | 10 진수 680\n",
      "b>>2  =  28   | 2 진수: 0b11100      | 10 진수 28\n"
     ]
    }
   ],
   "source": [
    "# 비트 연산자\n",
    "a = 0b10101010\n",
    "b = 0b01110011\n",
    "print(\"a     = \", a, \" | 2 진수:\", bin(a), \"  | 10 진수\", a)\n",
    "print(\"b     = \", b, \" | 2 진수:\", bin(b), \"   | 10 진수\", b)\n",
    "print(\"a & b = \", a & b, \"  | 2 진수:\", bin(a & b), \"    | 10 진수\", a & b) # a 와 b 비트열이 모두 1 이면 1 (and)\n",
    "print(\"a | b = \", a | b, \" | 2 진수:\", bin(a | b), \"  | 10 진수\", a | b) # a 와 b 비트열 중 하나이상 1 이면 1 (or)\n",
    "print(\"a ^ b = \", a ^ b, \" | 2 진수:\", bin(a ^ b), \"  | 10 진수\", a ^ b) # a 와 b 비드열 중 한개만 1 일때 1 (xor)\n",
    "print(\"~b    = \", ~b, \"| 2 진수:\", bin(~b), \"  | 10 진수\", ~b) # b 비트열 1 과 0 반전 (not)\n",
    "print(\"a<<2  = \", a << 2, \" | 2 진수:\", bin(a<<2), \"| 10 진수\", a << 2) # 왼쪽으로 비트단위 밀기 (시프트 연산)\n",
    "print(\"b>>2  = \", b >> 2, \"  | 2 진수:\", bin(b>>2), \"     | 10 진수\", b >> 2) # 오른쪽으로 비트단위 밀기 (시프트 연산)"
   ]
  },
  {
   "cell_type": "code",
   "execution_count": 48,
   "id": "9e17c777-1d3d-4242-a7f1-0d3df8b21e30",
   "metadata": {},
   "outputs": [
    {
     "name": "stdout",
     "output_type": "stream",
     "text": [
      "a 변수가 가리키고 있는 메모리 주소: 3141577964288\n",
      "b 변수가 가리키고 있는 메모리 주소: 3141577957376\n",
      "c 변수가 가리키고 있는 메모리 주소: 3141577964288\n",
      "a, b 변수가 가리키는 주소는 동일한가?  False\n",
      "a, c 변수가 가리키는 주소는 동일한가?  True\n",
      "a, b 변수가 가리키는 주소는 동일하지 않은가?  True\n",
      "a, c 변수가 가리키는 주소는 동일하지 않은가?  False\n"
     ]
    }
   ],
   "source": [
    "# 항등 연산자\n",
    "a = [1, 2, 3, 4]\n",
    "b = [1, 2, 3, 4]\n",
    "c = a\n",
    "print(\"a 변수가 가리키고 있는 메모리 주소:\", id(a))\n",
    "print(\"b 변수가 가리키고 있는 메모리 주소:\", id(b))\n",
    "print(\"c 변수가 가리키고 있는 메모리 주소:\", id(c))\n",
    "print(\"a, b 변수가 가리키는 주소는 동일한가? \", a is b)\n",
    "print(\"a, c 변수가 가리키는 주소는 동일한가? \", a is c)\n",
    "print(\"a, b 변수가 가리키는 주소는 동일하지 않은가? \", a is not b)\n",
    "print(\"a, c 변수가 가리키는 주소는 동일하지 않은가? \", a is not c)"
   ]
  },
  {
   "cell_type": "code",
   "execution_count": 50,
   "id": "b1fcc91b-1479-4839-895f-9ee5e594335a",
   "metadata": {},
   "outputs": [
    {
     "name": "stdout",
     "output_type": "stream",
     "text": [
      "a 변수에 '3'이 있는가?  True\n",
      "a 변수에 '5'가 없는가?  True\n"
     ]
    }
   ],
   "source": [
    "# 맴버 연산자\n",
    "a = [1, 2, 3, 4]\n",
    "print(\"a 변수에 '3'이 있는가? \", 3 in a)\n",
    "print(\"a 변수에 '5'가 없는가? \", 5 not in a)"
   ]
  },
  {
   "cell_type": "code",
   "execution_count": 52,
   "id": "4bc67b25-fbe9-446f-83f5-be4b21fe8345",
   "metadata": {},
   "outputs": [
    {
     "name": "stdout",
     "output_type": "stream",
     "text": [
      "a 가 크다.\n"
     ]
    }
   ],
   "source": [
    "# 삼항 연산자\n",
    "a = 6\n",
    "b = 2\n",
    "print(\"a 가 크다.\") if a > b else print(\"b 가 크다.\")"
   ]
  },
  {
   "cell_type": "code",
   "execution_count": null,
   "id": "93a89ab8-b307-487e-a972-cc7e1aeb92cd",
   "metadata": {},
   "outputs": [],
   "source": []
  },
  {
   "cell_type": "code",
   "execution_count": null,
   "id": "d279c766-29e3-4779-a9c4-14a582c22827",
   "metadata": {},
   "outputs": [],
   "source": []
  },
  {
   "cell_type": "code",
   "execution_count": null,
   "id": "8e2d610f-7a2a-4cb4-99fe-9bd286dc80a4",
   "metadata": {},
   "outputs": [],
   "source": []
  },
  {
   "cell_type": "code",
   "execution_count": null,
   "id": "7457afcc-cf88-4747-b601-88f401756794",
   "metadata": {},
   "outputs": [],
   "source": []
  },
  {
   "cell_type": "code",
   "execution_count": null,
   "id": "9803ef8f-39c7-425c-a322-7b4f6dfbf1ca",
   "metadata": {},
   "outputs": [],
   "source": []
  },
  {
   "cell_type": "code",
   "execution_count": null,
   "id": "01dcaa8e-96d9-4fa1-846e-ca9d2a69d850",
   "metadata": {},
   "outputs": [],
   "source": []
  },
  {
   "cell_type": "code",
   "execution_count": null,
   "id": "d0f5613a-78ec-481e-82b2-4f7c9c5febac",
   "metadata": {},
   "outputs": [],
   "source": []
  },
  {
   "cell_type": "code",
   "execution_count": null,
   "id": "eb5afee7-55b0-452b-90dd-3c4a0e979220",
   "metadata": {},
   "outputs": [],
   "source": []
  },
  {
   "cell_type": "code",
   "execution_count": null,
   "id": "426742af-3132-4c5f-90c6-b9109ce7ab5c",
   "metadata": {},
   "outputs": [],
   "source": []
  },
  {
   "cell_type": "code",
   "execution_count": null,
   "id": "379f96b6-458e-40a9-8a2a-09436939609b",
   "metadata": {},
   "outputs": [],
   "source": []
  },
  {
   "cell_type": "code",
   "execution_count": null,
   "id": "84862e10-85eb-41e2-9eab-fe988ba79cb9",
   "metadata": {},
   "outputs": [],
   "source": []
  },
  {
   "cell_type": "code",
   "execution_count": null,
   "id": "9dcf58aa-0ce8-4572-aa72-167ebae30564",
   "metadata": {},
   "outputs": [],
   "source": []
  },
  {
   "cell_type": "code",
   "execution_count": null,
   "id": "74798079-1ecf-4c1a-bdce-2b614d8674ff",
   "metadata": {},
   "outputs": [],
   "source": []
  },
  {
   "cell_type": "code",
   "execution_count": null,
   "id": "64a1e02a-56de-4c28-978f-6b280a2e2a36",
   "metadata": {},
   "outputs": [],
   "source": []
  },
  {
   "cell_type": "code",
   "execution_count": null,
   "id": "1382b7bf-d373-4b7f-875a-b85c4b0a9d79",
   "metadata": {},
   "outputs": [],
   "source": []
  },
  {
   "cell_type": "code",
   "execution_count": null,
   "id": "779ac882-acb3-4ce3-945d-79a4dad55cc4",
   "metadata": {},
   "outputs": [],
   "source": []
  },
  {
   "cell_type": "code",
   "execution_count": null,
   "id": "3160efa2-ac5a-4592-8ce5-20d63c4fe89f",
   "metadata": {},
   "outputs": [],
   "source": []
  },
  {
   "cell_type": "code",
   "execution_count": null,
   "id": "43fcedac-161a-431f-8a56-e6e395281bb5",
   "metadata": {},
   "outputs": [],
   "source": []
  },
  {
   "cell_type": "code",
   "execution_count": null,
   "id": "ef4fb7c9-3239-4a36-8321-52780bb43db6",
   "metadata": {},
   "outputs": [],
   "source": []
  },
  {
   "cell_type": "code",
   "execution_count": null,
   "id": "cded8e7c-b34d-4e65-ad21-95addc63ff5c",
   "metadata": {},
   "outputs": [],
   "source": []
  },
  {
   "cell_type": "code",
   "execution_count": null,
   "id": "249492b8-702e-4470-acb9-80bc46f91047",
   "metadata": {},
   "outputs": [],
   "source": []
  },
  {
   "cell_type": "code",
   "execution_count": null,
   "id": "14775b9d-4cc3-4c8e-b9b8-cabd6ce28a31",
   "metadata": {},
   "outputs": [],
   "source": []
  },
  {
   "cell_type": "code",
   "execution_count": null,
   "id": "11f852ad-5446-4c13-9cbb-579c141bf34e",
   "metadata": {},
   "outputs": [],
   "source": []
  }
 ],
 "metadata": {
  "kernelspec": {
   "display_name": "Python 3 (ipykernel)",
   "language": "python",
   "name": "python3"
  },
  "language_info": {
   "codemirror_mode": {
    "name": "ipython",
    "version": 3
   },
   "file_extension": ".py",
   "mimetype": "text/x-python",
   "name": "python",
   "nbconvert_exporter": "python",
   "pygments_lexer": "ipython3",
   "version": "3.12.4"
  }
 },
 "nbformat": 4,
 "nbformat_minor": 5
}
