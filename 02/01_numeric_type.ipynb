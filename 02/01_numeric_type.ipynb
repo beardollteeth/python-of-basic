{
 "cells": [
  {
   "cell_type": "code",
   "execution_count": 3,
   "id": "382c86aa-f4ee-49c5-be01-6ba81c0381b9",
   "metadata": {},
   "outputs": [],
   "source": [
    "# 정수형\n",
    "a = 123\n",
    "a = -123\n",
    "a = 0"
   ]
  },
  {
   "cell_type": "code",
   "execution_count": 5,
   "id": "36bf6345-2505-4af0-b3a0-6cf3db58d4bd",
   "metadata": {},
   "outputs": [],
   "source": [
    "# 실수형\n",
    "a = 3.14\n",
    "a = -6.2452\n",
    "a = 3.14e10\n",
    "a = 3.14e-10"
   ]
  },
  {
   "cell_type": "code",
   "execution_count": 9,
   "id": "8b57abb0-bb02-4dc5-b663-45f9de7ea44c",
   "metadata": {},
   "outputs": [
    {
     "name": "stdout",
     "output_type": "stream",
     "text": [
      "192 128 272629760 255\n",
      "0b11111111\n",
      "0o377\n",
      "0xff\n"
     ]
    }
   ],
   "source": [
    "# 2, 8, 10, 16 진수 처리\n",
    "a = 0b11000000\n",
    "b = 0o200\n",
    "c = 0x10400000\n",
    "d = 255\n",
    "print((a), (b), (c), (d)) # 10진수\n",
    "print(bin(d)) # 2 진수\n",
    "print(oct(d)) # 8 진수\n",
    "print(hex(d)) # 16 진수"
   ]
  },
  {
   "cell_type": "code",
   "execution_count": 11,
   "id": "f3c0ac42-cc93-40f4-b27a-d8beb8785156",
   "metadata": {},
   "outputs": [
    {
     "name": "stdout",
     "output_type": "stream",
     "text": [
      "a + b = 8\n",
      "a - b = 4\n",
      "b - a = -4\n",
      "a * b = 12\n",
      "a / b = 3.0\n"
     ]
    }
   ],
   "source": [
    "# 사칙 연산\n",
    "a = 6\n",
    "b = 2\n",
    "print(\"a + b =\", a + b)\n",
    "print(\"a - b =\", a - b)\n",
    "print(\"b - a =\", b - a)\n",
    "print(\"a * b =\", a * b)\n",
    "print(\"a / b =\", a / b)"
   ]
  },
  {
   "cell_type": "code",
   "execution_count": 13,
   "id": "136a86a5-5735-4660-ba67-d4f16b93636c",
   "metadata": {},
   "outputs": [
    {
     "name": "stdout",
     "output_type": "stream",
     "text": [
      "2^7 = 128\n"
     ]
    }
   ],
   "source": [
    "# 거듭 제곱 연산\n",
    "a = 2\n",
    "b = 7\n",
    "print(\"2^7 =\", a ** 7)"
   ]
  },
  {
   "cell_type": "code",
   "execution_count": 36,
   "id": "c447e22a-12d7-480e-9639-cee6eeffb328",
   "metadata": {},
   "outputs": [
    {
     "name": "stdout",
     "output_type": "stream",
     "text": [
      "a / b 의 몫 = 3\n",
      "a / b 의 나머지 = 1\n",
      "a / b 의 (몫, 나머지) = (3, 1)\n",
      "divmod() 의 type 은? <class 'tuple'>\n"
     ]
    }
   ],
   "source": [
    "# 나눗셈 나머지 처리 연산자\n",
    "a = 7\n",
    "b = 2\n",
    "print(\"a / b 의 몫 =\", a // b)\n",
    "print(\"a / b 의 나머지 =\", a % b)\n",
    "print(\"a / b 의 (몫, 나머지) =\", divmod(a, b))\n",
    "print(\"divmod() 의 type 은?\", type(divmod(a,b)))"
   ]
  },
  {
   "cell_type": "code",
   "execution_count": 46,
   "id": "3810dfdf-3933-46d5-9b5a-40d85074ea20",
   "metadata": {},
   "outputs": [
    {
     "name": "stdout",
     "output_type": "stream",
     "text": [
      "덧셈 결과:      10\n",
      "뺄셈 결과:      4\n",
      "나눗셈 결과:     2.3333333333333335\n",
      "나눗셈 몫 결과:   2\n",
      "나눗셈 나머지 결과:  (2, 1)\n",
      "num1 의 2 진수/8 진수/16 진수 결과:  0b111 0o7 0x7\n",
      "num2 의 2 진수/8 진수/16 진수 결과:  0b11 0o3 0x3\n"
     ]
    }
   ],
   "source": [
    "# 예제 1\n",
    "num1 = 7\n",
    "num2 = 3\n",
    "print(\"덧셈 결과:     \", num1 + num2)\n",
    "print(\"뺄셈 결과:     \", num1 - num2)\n",
    "print(\"나눗셈 결과:    \", num1 / num2)\n",
    "print(\"나눗셈 몫 결과:  \", num1 // num2)\n",
    "print(\"나눗셈 나머지 결과: \", divmod(num1,num2))\n",
    "print(\"num1 의 2 진수/8 진수/16 진수 결과: \", bin(num1), oct(num1), hex(num1))\n",
    "print(\"num2 의 2 진수/8 진수/16 진수 결과: \", bin(num2), oct(num2), hex(num2))"
   ]
  }
 ],
 "metadata": {
  "kernelspec": {
   "display_name": "Python 3 (ipykernel)",
   "language": "python",
   "name": "python3"
  },
  "language_info": {
   "codemirror_mode": {
    "name": "ipython",
    "version": 3
   },
   "file_extension": ".py",
   "mimetype": "text/x-python",
   "name": "python",
   "nbconvert_exporter": "python",
   "pygments_lexer": "ipython3",
   "version": "3.12.4"
  }
 },
 "nbformat": 4,
 "nbformat_minor": 5
}
