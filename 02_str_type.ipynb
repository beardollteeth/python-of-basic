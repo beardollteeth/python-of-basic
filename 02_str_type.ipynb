{
  "cells": [
    {
      "cell_type": "code",
      "execution_count": null,
      "id": "e2c41a51-2943-4361-9592-d3d8d167198b",
      "metadata": {
        "id": "e2c41a51-2943-4361-9592-d3d8d167198b",
        "outputId": "51a05318-c0e8-4ce4-9704-3a51a0ebf9eb"
      },
      "outputs": [
        {
          "name": "stdout",
          "output_type": "stream",
          "text": [
            "<class 'int'> 123\n",
            "<class 'str'> 123\n",
            "<class 'str'> hello world\n",
            "<class 'str'> hello world\n",
            "<class 'str'> I am Python programmin language\n",
            "<class 'str'> \n",
            "I\n",
            "am\n",
            "Python\n",
            "programming\n",
            "language\n"
          ]
        }
      ],
      "source": [
        "# 문자열 자료형\n",
        "a1 = 123\n",
        "a2 = \"123\"\n",
        "a3 = \"hello world\"\n",
        "a4 = 'hello world'\n",
        "a5 = \"\"\"I am Python programmin language\"\"\"\n",
        "a6 = '''\n",
        "I\n",
        "am\n",
        "Python\n",
        "programming\n",
        "language'''    # \"\"\", ''' 줄바꿈 가능\n",
        "print(type(a1), a1)\n",
        "print(type(a2), a2)\n",
        "print(type(a3), a3)\n",
        "print(type(a4), a4)\n",
        "print(type(a5), a5)\n",
        "print(type(a6), a6)"
      ]
    },
    {
      "cell_type": "code",
      "execution_count": null,
      "id": "4271e641-555b-43fa-a548-8c0caee16e65",
      "metadata": {
        "id": "4271e641-555b-43fa-a548-8c0caee16e65",
        "outputId": "cb316f5f-c0b2-4a8e-8a60-f444b0e49810"
      },
      "outputs": [
        {
          "name": "stdout",
          "output_type": "stream",
          "text": [
            "I'm Python programming language\n",
            "I am \"Python\" programming language\n",
            "I'm \"Python\" programming language\n",
            "I'm \"Python\" programming language\n"
          ]
        }
      ],
      "source": [
        "# 문자열 안에 작은 따옴표 및 큰 따옴표 삽입하는 방법\n",
        "a1 = \"I'm Python programming language\"        # 작은 따옴표 삽입\n",
        "print(a1)\n",
        "\n",
        "a1 = 'I am \"Python\" programming language'     # 큰 따옴표 삽입\n",
        "print(a1)\n",
        "\n",
        "a1 = \"I'm \"'\"Python\"'\" programming language\"  # 작은 따옴표 및 큰 따옴표 삽입\n",
        "print(a1)\n",
        "\n",
        "a1 = 'I\\'m \\\"Python\\\" programming language'   # 역슬래시를 이용하여 작은&큰 따옴표 삽입\n",
        "print(a1)"
      ]
    },
    {
      "cell_type": "code",
      "execution_count": null,
      "id": "3cf9dd50-e388-405b-80e7-8aaca42023f0",
      "metadata": {
        "id": "3cf9dd50-e388-405b-80e7-8aaca42023f0",
        "outputId": "40d03eaf-868b-44a2-a010-424fce11553d"
      },
      "outputs": [
        {
          "name": "stdout",
          "output_type": "stream",
          "text": [
            "I'm \"Python\" programming language\n",
            "!!!\n"
          ]
        }
      ],
      "source": [
        "# 문자열 더하기\n",
        "a1 = \"I'm \"\n",
        "a2 = '\"Python\" '\n",
        "a3 = \"\"\"programming language\n",
        "!!!\"\"\"\n",
        "print(a1 + a2 + a3)"
      ]
    },
    {
      "cell_type": "code",
      "execution_count": null,
      "id": "6e7fa406-a952-4028-8394-bd9f61389709",
      "metadata": {
        "id": "6e7fa406-a952-4028-8394-bd9f61389709",
        "outputId": "44bc9547-00e3-4fcc-888c-1526c9ea9f2f"
      },
      "outputs": [
        {
          "name": "stdout",
          "output_type": "stream",
          "text": [
            "I am I am I am \n",
            "I am I am I am  Python Python Python  programming language programming language \n"
          ]
        }
      ],
      "source": [
        "# 문자열 곱하기\n",
        "a1 = \"I am \"\n",
        "a2 = \"Python \"\n",
        "a3 = \"programming language \"\n",
        "print(a1 * 3)\n",
        "print(a1 * 3, a2 * 3, a3 * 2)"
      ]
    },
    {
      "cell_type": "code",
      "execution_count": null,
      "id": "d681afca-6892-42f0-917f-0bebf127c14b",
      "metadata": {
        "id": "d681afca-6892-42f0-917f-0bebf127c14b",
        "outputId": "8128a799-ded0-45b2-95b7-eaaa8bdfce4a"
      },
      "outputs": [
        {
          "name": "stdout",
          "output_type": "stream",
          "text": [
            "a 변수의 문자열 길이 = 32\n"
          ]
        }
      ],
      "source": [
        "# len()함수를 이용하여 문자열 길이 구하기\n",
        "a = \"I am Python programming language\"\n",
        "print(\"a 변수의 문자열 길이 =\", len(a))"
      ]
    },
    {
      "cell_type": "code",
      "execution_count": null,
      "id": "de58da8a-c9e0-4111-ad37-eb8782182879",
      "metadata": {
        "id": "de58da8a-c9e0-4111-ad37-eb8782182879",
        "outputId": "19a62cda-de62-4ae5-f3d7-e8966328f84c"
      },
      "outputs": [
        {
          "name": "stdout",
          "output_type": "stream",
          "text": [
            "====================================\n",
            "= I am Python programming language =\n",
            "====================================\n"
          ]
        }
      ],
      "source": [
        "# 예제 1\n",
        "a1 = \"I am \"\n",
        "a2 = \"Python \"\n",
        "a3 = \"programming language\"\n",
        "a4 = \"=\"\n",
        "print(a4 * 36)\n",
        "print(a4, a1+a2+a3, a4)\n",
        "print(a4 * 36)"
      ]
    },
    {
      "cell_type": "code",
      "execution_count": null,
      "id": "1b074f3d-598d-41c2-929a-46c31226855d",
      "metadata": {
        "id": "1b074f3d-598d-41c2-929a-46c31226855d",
        "outputId": "e135e7ac-1529-43dc-9b1d-b629d31b1ac5"
      },
      "outputs": [
        {
          "name": "stdout",
          "output_type": "stream",
          "text": [
            "전체 문자:  I am Python programming language\n",
            "0 번 인덱스 문자:  I\n",
            "5 번 인덱스 문자:  P\n",
            "5~10 인덱스 문자:  Python\n"
          ]
        }
      ],
      "source": [
        "# 문자열 인덱싱 이해\n",
        "a = \"I am Python programming language\"\n",
        "print(\"전체 문자: \", a)\n",
        "print(\"0 번 인덱스 문자: \", a[0])\n",
        "print(\"5 번 인덱스 문자: \", a[5])\n",
        "print(\"5~10 인덱스 문자: \", a[5] + a[6] + a[7] + a[8] + a[9] + a[10])"
      ]
    },
    {
      "cell_type": "code",
      "execution_count": null,
      "id": "b00e1547-7bf0-4935-b492-65856c3cb5b2",
      "metadata": {
        "id": "b00e1547-7bf0-4935-b492-65856c3cb5b2",
        "outputId": "f4e69cd3-b4ce-4a6a-a5dd-3689aa6b1252"
      },
      "outputs": [
        {
          "name": "stdout",
          "output_type": "stream",
          "text": [
            "마지막 문자:  e\n",
            "마지막 문자부터 2글자:  e g\n",
            "마지막 문자부터 8글자:  e g a u g n a l\n"
          ]
        }
      ],
      "source": [
        "# 마지막 문자열부터 인덱싱하는 방법\n",
        "a = \"I am Python programming language\"\n",
        "print(\"마지막 문자: \", a[-1])\n",
        "print(\"마지막 문자부터 2글자: \", a[-1], a[-2])\n",
        "print(\"마지막 문자부터 8글자: \", a[-1], a[-2], a[-3], a[-4], a[-5], a[-6], a[-7], a[-8])"
      ]
    },
    {
      "cell_type": "code",
      "execution_count": null,
      "id": "2dfc3d6a-4b45-460e-890c-e495f35ae5a9",
      "metadata": {
        "id": "2dfc3d6a-4b45-460e-890c-e495f35ae5a9",
        "outputId": "5d693993-34f1-45cb-e0de-917459baca65"
      },
      "outputs": [
        {
          "name": "stdout",
          "output_type": "stream",
          "text": [
            "Python language\n"
          ]
        }
      ],
      "source": [
        "# 예제 2) a 변수에 \"I am Python programming language\"를 대입하고 다음과 같이 출력되도록 한다.\n",
        "# Python language\n",
        "\n",
        "a = \"I am Python programming language\"\n",
        "print(a[5]+a[6]+a[7]+a[8]+a[9]+a[10], a[-8]+a[-7]+a[-6]+a[-5]+a[-4]+a[-3]+a[-2]+a[-1])"
      ]
    },
    {
      "cell_type": "code",
      "execution_count": null,
      "id": "cd764c17-3d78-46f9-af51-da1a8148d767",
      "metadata": {
        "id": "cd764c17-3d78-46f9-af51-da1a8148d767",
        "outputId": "8080650b-cec6-4483-8956-1c9b817a9f79"
      },
      "outputs": [
        {
          "name": "stdout",
          "output_type": "stream",
          "text": [
            "0~3 번 인덱스 문자:  I am\n",
            "5~10 번 인덱스 문자:  Python\n",
            "12~22 번 인덱스 문자:  programming\n",
            "24~31 번 인덱스 문자:  language\n"
          ]
        }
      ],
      "source": [
        "# 문자열 슬라이싱 이해\n",
        "a = \"I am Python programming language\"\n",
        "print(\"0~3 번 인덱스 문자: \", a[0:4])\n",
        "print(\"5~10 번 인덱스 문자: \", a[5:11])\n",
        "print(\"12~22 번 인덱스 문자: \", a[12:23])\n",
        "print(\"24~31 번 인덱스 문자: \", a[24:32])"
      ]
    },
    {
      "cell_type": "code",
      "execution_count": null,
      "id": "9e180e23-5a03-45cf-9f0d-30720b5a628f",
      "metadata": {
        "id": "9e180e23-5a03-45cf-9f0d-30720b5a628f",
        "outputId": "e28f5985-55be-4b62-f2d4-74802618e1d4"
      },
      "outputs": [
        {
          "name": "stdout",
          "output_type": "stream",
          "text": [
            "문자 전체:  0123456789\n",
            "문자 전체:  0123456789\n",
            "4번 인덱스 이상 문자 : 456789\n",
            "4번 인덱스 미만 문자 : 0123\n",
            "마지막 문자 3 개 제외한 문자 전체 : 0123456\n",
            "2~8 번 인덱스 문자:  2345678\n",
            "2~8 번 인덱스 문자에서 슬라이싱 간격 2 개인 경우:  2468\n",
            "2~8 번 인덱스 문자에서 슬라이싱 간격 3 개인 경우:  258\n"
          ]
        }
      ],
      "source": [
        "# 문자열 슬라이싱하는 방법\n",
        "a = \"0123456789\"\n",
        "print(\"문자 전체: \", a[:])    # 전체\n",
        "print(\"문자 전체: \", a[0:])   # 0 번 부터 끝까지\n",
        "print(\"4번 인덱스 이상 문자 :\", a[4:])    # 4 번 부터 끝까지\n",
        "print(\"4번 인덱스 미만 문자 :\", a[:4])    # 4 번 전 까지\n",
        "print(\"마지막 문자 3 개 제외한 문자 전체 :\", a[:-3])    # -3 번 전 까지\n",
        "print(\"2~8 번 인덱스 문자: \", a[2:9])     # 2 번 부터 9 번 전 까지\n",
        "print(\"2~8 번 인덱스 문자에서 슬라이싱 간격 2 개인 경우: \", a[2:9:2])\n",
        "print(\"2~8 번 인덱스 문자에서 슬라이싱 간격 3 개인 경우: \", a[2:9:3])"
      ]
    },
    {
      "cell_type": "code",
      "execution_count": null,
      "id": "41ebf533-e8d1-46c6-aef3-95389e3ea67c",
      "metadata": {
        "id": "41ebf533-e8d1-46c6-aef3-95389e3ea67c",
        "outputId": "959f7ece-10d6-4bf6-b891-7c1582334753"
      },
      "outputs": [
        {
          "name": "stdout",
          "output_type": "stream",
          "text": [
            "username:  test1234\n",
            "password:  abcd1234\n",
            "birthday:  20020716\n"
          ]
        }
      ],
      "source": [
        "# 슬라이싱을 이용한 문자열 나누기\n",
        "a = \"test1234abcd123420020716\"\n",
        "id = a[:8]\n",
        "pw = a[8:16]\n",
        "birth = a[16:]\n",
        "print(\"username: \", id)\n",
        "print(\"password: \", pw)\n",
        "print(\"birthday: \", birth)"
      ]
    },
    {
      "cell_type": "code",
      "execution_count": null,
      "id": "d6b17a5a-f2b1-4c1f-a341-dd8e01918df7",
      "metadata": {
        "id": "d6b17a5a-f2b1-4c1f-a341-dd8e01918df7",
        "outputId": "c4183e14-0019-4346-922c-927acf94cab7"
      },
      "outputs": [
        {
          "name": "stdout",
          "output_type": "stream",
          "text": [
            "Korea = Seoul\n",
            "Tokyo = Tokyo\n",
            "China = Beijing\n"
          ]
        }
      ],
      "source": [
        "# 예제 3) b 변수에 \"Seoul.Tokyo.Beijing\"을 대입하고 다음과 같이 출력되도록 슬라이상한다.\n",
        "\"\"\"\n",
        "Korea = Seoul\n",
        "Japan = Tokyo\n",
        "China = Beijing\n",
        "\"\"\"\n",
        "\n",
        "b = \"Seoul.Tokyo.Beijing\"\n",
        "print(\"Korea =\", b[:5])\n",
        "print(\"Tokyo =\", b[6:11])\n",
        "print(\"China =\", b[12:])"
      ]
    },
    {
      "cell_type": "code",
      "execution_count": null,
      "id": "53fbb07a-078a-43c6-9103-c98177d68608",
      "metadata": {
        "id": "53fbb07a-078a-43c6-9103-c98177d68608",
        "outputId": "3632094a-3b0d-457b-deee-0f16a9691060"
      },
      "outputs": [
        {
          "name": "stdout",
          "output_type": "stream",
          "text": [
            "I am Python programming Language\n"
          ]
        }
      ],
      "source": [
        "# 예제 4) c 변수에 \"I am C programming language\"를 대입하고 슬라이싱을 이용하여 c 변수에 대입한 문자열을 다음과 같이 출력되도록 한다.\n",
        "# I am Python progriamming language\n",
        "c = \"I am C programming Language\"\n",
        "print(c[:4],\"Python\"+c[6:])"
      ]
    },
    {
      "cell_type": "code",
      "execution_count": null,
      "id": "180fdb68-77f9-40c3-acb6-7ec0031e9412",
      "metadata": {
        "id": "180fdb68-77f9-40c3-acb6-7ec0031e9412",
        "outputId": "2379e6c4-a7ec-4976-e533-e7b9c67fea8b"
      },
      "outputs": [
        {
          "name": "stdout",
          "output_type": "stream",
          "text": [
            "2002 년 한일 월드컵 4 강\n",
            "2002 년 한일 월드컵 4 강\n",
            "2002 년 한일 월드컵 4 강\n",
            "2002 년 한일 월드컵 4 강\n",
            "2002 년 한일 월드컵 4 강\n",
            "2002 년 한일 월드컵 4 강\n",
            "2002 년 한일 월드컵 4 강\n"
          ]
        }
      ],
      "source": [
        "# 문자열 포매팅 이해\n",
        "\"\"\"\n",
        "%s    문자열(String)\n",
        "%c    문자1개(Character)\n",
        "%d    정수(Interger)\n",
        "%f    부동소수(Floating-Point)\n",
        "%o    8진수\n",
        "%x    16진수\n",
        "%%    %\n",
        "\"\"\"\n",
        "s1 = \"2002\"\n",
        "s2 = \"한일\"\n",
        "s3 = \"4\"\n",
        "s4 = \"2002 년 한일 월드컵 4 강\"\n",
        "d1 = 2002\n",
        "d2 = 4\n",
        "print(s4)\n",
        "print(s1 + \" 년 \" + s2 + \" 월드컵 \" + s3 + \" 강\")\n",
        "print(\"%s 년 %s 월드컵 %s 강\" %(\"2002\", \"한일\", \"4\"))\n",
        "print(\"%s 년 %s 월드컵 %s 강\" %(s1, s2, s3))\n",
        "print(\"%s 년 %s 월드컵 %c 강\" %(s1, s2, s3))\n",
        "print(\"%d 년 %s 월드컵 %d 강\" %(2002, \"한일\", 4))\n",
        "print(\"%d 년 %s 월드컵 %d 강\" %(d1, s2, d2))"
      ]
    },
    {
      "cell_type": "code",
      "execution_count": null,
      "id": "c938293f-fa72-4e01-af97-cd3889b23273",
      "metadata": {
        "id": "c938293f-fa72-4e01-af97-cd3889b23273",
        "outputId": "82bd78f0-fde6-401d-faf3-956c96f6a034"
      },
      "outputs": [
        {
          "name": "stdout",
          "output_type": "stream",
          "text": [
            "합격율 95%\n"
          ]
        }
      ],
      "source": [
        "# %% 포맷 코드 이해\n",
        "a = 95\n",
        "print(\"합격율 %d%%\" %(a))"
      ]
    },
    {
      "cell_type": "code",
      "execution_count": null,
      "id": "e0043808-04dc-44f7-ac9e-b8d02718cbec",
      "metadata": {
        "id": "e0043808-04dc-44f7-ac9e-b8d02718cbec",
        "outputId": "65cd4862-1fee-4567-89b1-e000c1ebf34d"
      },
      "outputs": [
        {
          "name": "stdout",
          "output_type": "stream",
          "text": [
            "원주율은 '3' 입니다.\n",
            "원주율은 '3.141592' 입니다.\n",
            "원주율은 '3.1' 입니다.\n",
            "원주율은 '3.14' 입니다.\n",
            "원주율은 '3.141592' 입니다.\n"
          ]
        }
      ],
      "source": [
        "# %f 포맷 코드 이해\n",
        "a = 3.141592\n",
        "print(\"원주율은 '%d' 입니다.\" %(a))\n",
        "print(\"원주율은 '%f' 입니다.\" %(a))\n",
        "print(\"원주율은 '%.1f' 입니다.\" %(a))\n",
        "print(\"원주율은 '%.2f' 입니다.\" %(a))\n",
        "print(\"원주율은 '%.6f' 입니다.\" %(a))"
      ]
    },
    {
      "cell_type": "code",
      "execution_count": null,
      "id": "3b98c129-ed4f-4565-bf0b-bc4b3eac19a2",
      "metadata": {
        "id": "3b98c129-ed4f-4565-bf0b-bc4b3eac19a2",
        "outputId": "674624e3-7494-463a-9c60-7f735127b56a"
      },
      "outputs": [
        {
          "name": "stdout",
          "output_type": "stream",
          "text": [
            "500은 8진수로 764 입니다.\n",
            "500은 16진수로 1f4 입니다.\n",
            "500은 16진수로 01f4 입니다.\n",
            "500은 16진수로 000001f4 입니다.\n",
            "500은 2진수로 0b111110100 입니다.\n"
          ]
        }
      ],
      "source": [
        "# 2/8/16 진수 포맷 코드\n",
        "a = 500\n",
        "print(\"500은 8진수로 %o 입니다.\" %(a))\n",
        "print(\"500은 16진수로 %x 입니다.\" %(a))\n",
        "print(\"500은 16진수로 %.4x 입니다.\" %(a))\n",
        "print(\"500은 16진수로 %.8x 입니다.\" %(a))\n",
        "print(\"500은 2진수로 %s 입니다.\" %(bin(a)))"
      ]
    },
    {
      "cell_type": "code",
      "execution_count": null,
      "id": "f10ecbf1-22e9-4f47-8bc5-258463c36ea7",
      "metadata": {
        "id": "f10ecbf1-22e9-4f47-8bc5-258463c36ea7",
        "outputId": "c26b3623-1c5b-4082-a1aa-6f15f8c3fa0d"
      },
      "outputs": [
        {
          "name": "stdout",
          "output_type": "stream",
          "text": [
            "2002년 한일 월드컵 4강\n",
            "2002년 한일 월드컵 4강\n",
            "4년 한일 월드컵 2002강\n",
            "4년 한일 월드컵 4강\n",
            "2002년 한일 월드컵 4강\n",
            "2002년 한일 월드컵 4강\n",
            "2002년 한일 월드컵 4강\n",
            "2002년 한일 월드컵 4 강\n"
          ]
        }
      ],
      "source": [
        "# format() 함수를 이용한 포매팅\n",
        "s1 = \"2002\"\n",
        "s2 = \"한일\"\n",
        "s3 = 4\n",
        "s4 = \"{year:}년 한일 월드컵 4 강\"\n",
        "print(\"{}년 {} 월드컵 {}강\".format(2002, \"한일\", 4))                 # 인덱스 사용\n",
        "print(\"{0}년 {1} 월드컵 {2}강\".format(2002, \"한일\", 4))              # 인덱스 부여\n",
        "print(\"{2}년 {1} 월드컵 {0}강\".format(2002, \"한일\", 4))              # 인덱스 순서 변경\n",
        "print(\"{2}년 {1} 월드컵 {2}강\".format(2002, \"한일\", 4))              # 인덱스 중복 가능\n",
        "print(\"{}년 {} 월드컵 {}강\".format(s1, s2, s3))                      # 변수 지정\n",
        "print(\"{x}년 {y} 월드컵 {z}강\".format(x = 2002, y = \"한일\", z = 4))  # 변수=값 형식\n",
        "print(\"{}년 {} 월드컵 {z}강\".format(2002, s2, z = 4))                # 값, 변수, 변수=값 혼용\n",
        "print(s4.format(year = 2002))                                       # 변수값 대입 방식"
      ]
    },
    {
      "cell_type": "code",
      "execution_count": null,
      "id": "64919f80-7ced-483a-8c5f-bdbe01cffda0",
      "metadata": {
        "id": "64919f80-7ced-483a-8c5f-bdbe01cffda0",
        "outputId": "62f3a00d-92fd-4d1a-fa55-f9dd7620a95b"
      },
      "outputs": [
        {
          "name": "stdout",
          "output_type": "stream",
          "text": [
            "좌측 정력 ㅋㅋ        \n",
            "우측 정력         ㅋㅋ\n",
            "가운데 정렬     ㅋㅋ    \n"
          ]
        }
      ],
      "source": [
        "# format() 함수를 이용한 문자열 정렬\n",
        "a = \"ㅋㅋ\"\n",
        "print(\"좌측 정력 {0:<10}\".format(a))\n",
        "print(\"우측 정력 {0:>10}\".format(a))\n",
        "print(\"가운데 정렬 {0:^10}\".format(a))"
      ]
    },
    {
      "cell_type": "code",
      "execution_count": null,
      "id": "4284e9b3-74f7-4f78-b51f-d78bbe676f65",
      "metadata": {
        "id": "4284e9b3-74f7-4f78-b51f-d78bbe676f65",
        "outputId": "ebcf016a-50b5-41ec-8a0f-8940172c4a7a"
      },
      "outputs": [
        {
          "name": "stdout",
          "output_type": "stream",
          "text": [
            "좌측 정렬 및 공백 채우기 ㅋㅋㅎㅎㅎㅎㅎㅎㅎㅎ\n",
            "우측 정력 및 공백 채우기  77777777ㅋㅋ\n",
            "가운데 정력 및 공백 채우기 ====ㅋㅋ====\n"
          ]
        }
      ],
      "source": [
        "# format() 함수를 이용한 무자열 공백 채우기\n",
        "a = \"ㅋㅋ\"\n",
        "print(\"좌측 정렬 및 공백 채우기 {0:ㅎ<10}\".format(a))\n",
        "print(\"우측 정력 및 공백 채우기  {0:7>10}\".format(a))\n",
        "print(\"가운데 정력 및 공백 채우기 {0:=^10}\".format(a))"
      ]
    },
    {
      "cell_type": "code",
      "execution_count": null,
      "id": "93dc35b0-190a-49ad-992f-fd09807c7b5d",
      "metadata": {
        "id": "93dc35b0-190a-49ad-992f-fd09807c7b5d",
        "outputId": "acb236f8-8028-41a9-d76d-deefc85c72ce"
      },
      "outputs": [
        {
          "name": "stdout",
          "output_type": "stream",
          "text": [
            "3.141592\n",
            "3.1\n",
            "3.14\n",
            "3.142\n",
            "3.1416\n"
          ]
        }
      ],
      "source": [
        "# format() 함수를 이용한 소수점 표현\n",
        "a = 3.141592\n",
        "print(\"{0:f}\".format(a))\n",
        "print(\"{0:0.1f}\".format(a))\n",
        "print(\"{0:0.2f}\".format(a))\n",
        "print(\"{0:0.3f}\".format(a))\n",
        "print(\"{0:0.4f}\".format(a))"
      ]
    },
    {
      "cell_type": "code",
      "execution_count": null,
      "id": "0bedaf6f-10fd-4182-b154-4a381239e256",
      "metadata": {
        "id": "0bedaf6f-10fd-4182-b154-4a381239e256",
        "outputId": "3ee3114f-8276-4bf8-d309-72635c3bd872"
      },
      "outputs": [
        {
          "name": "stdout",
          "output_type": "stream",
          "text": [
            "이름: {홍길동} | 키: {174} | 몸무게: {78.4}\n"
          ]
        }
      ],
      "source": [
        "# format() 함수를 이용한 { ] 문자 표현\n",
        "name = \"홍길동\"\n",
        "height = 174\n",
        "weight = 78.4\n",
        "print(\"이름: {{{0}}} | 키: {{{1}}} | 몸무게: {{{2}}}\".format(name, height,weight))"
      ]
    },
    {
      "cell_type": "code",
      "execution_count": null,
      "id": "b91974b1-8975-4a18-a49a-d936edee48e3",
      "metadata": {
        "id": "b91974b1-8975-4a18-a49a-d936edee48e3",
        "outputId": "2e44f6c3-c426-44bf-ae6f-3d6927b3f5b3"
      },
      "outputs": [
        {
          "name": "stdout",
          "output_type": "stream",
          "text": [
            "2002년 한일 월드컵 4강\n",
            "2002년 한일 월드컵 8강\n",
            "2002년 한일 월드컵 16강\n"
          ]
        }
      ],
      "source": [
        "# f-string 을 이용한 포매팅\n",
        "s1 = \"2002\"\n",
        "s2 = \"한일\"\n",
        "s3 = 4\n",
        "print(f\"{s1}년 {s2} 월드컵 {s3}강\")\n",
        "print(f\"{s1}년 {s2} 월드컵 {s3 + 4}강\")\n",
        "print(f\"{s1}년 {s2} 월드컵 {s3 + 12}강\")"
      ]
    },
    {
      "cell_type": "code",
      "execution_count": null,
      "id": "d229cc07-213d-4c82-b098-e1e4bc87ff70",
      "metadata": {
        "id": "d229cc07-213d-4c82-b098-e1e4bc87ff70",
        "outputId": "875f84bc-d817-49a0-bb5a-697104e26687"
      },
      "outputs": [
        {
          "name": "stdout",
          "output_type": "stream",
          "text": [
            "홍길동은 키가 174cm 이고 몸무게는 78.4kg 입니다.\n"
          ]
        }
      ],
      "source": [
        "# 딕셔너리(키:값)을 이용한 f-string 포매팅\n",
        "a = {\"name\":\"홍길동\", \"height\":\"174\", \"weight\":\"78.4\"}\n",
        "print(f\"{a[\"name\"]}은 키가 {a[\"height\"]}cm 이고 몸무게는 {a[\"weight\"]}kg 입니다.\")"
      ]
    },
    {
      "cell_type": "code",
      "execution_count": null,
      "id": "bcfa448b-f1a3-432f-9f7d-9ae48e6d9495",
      "metadata": {
        "id": "bcfa448b-f1a3-432f-9f7d-9ae48e6d9495",
        "outputId": "309b8d8a-0d8e-428b-ffa9-773b6036a50a"
      },
      "outputs": [
        {
          "name": "stdout",
          "output_type": "stream",
          "text": [
            "좌측 정렬 ㅋㅋ        \n",
            "우측 정렬         ㅋㅋ\n",
            "가운데 정렬     ㅋㅋ    \n"
          ]
        }
      ],
      "source": [
        "# f-string 포매팅을 이용한 문자열 정렬\n",
        "a = \"ㅋㅋ\"\n",
        "print(f\"좌측 정렬 {a:<10}\")\n",
        "print(f\"우측 정렬 {a:>10}\")\n",
        "print(f\"가운데 정렬 {a:^10}\")"
      ]
    },
    {
      "cell_type": "code",
      "execution_count": null,
      "id": "1f7f2eb5-f177-4a61-88ce-94e51e05753a",
      "metadata": {
        "id": "1f7f2eb5-f177-4a61-88ce-94e51e05753a",
        "outputId": "d63b2316-abb5-4501-8a6c-3b4d380edef2"
      },
      "outputs": [
        {
          "name": "stdout",
          "output_type": "stream",
          "text": [
            "좌측 정렬 및 공백 ㅎ으로 채우기 ㅋㅋㅎㅎㅎㅎㅎㅎㅎㅎ\n",
            "우측 정렬 및 공백 ㅎ으로 채우기 ㅎㅎㅎㅎㅎㅎㅎㅎㅋㅋ\n",
            "가운데 정렬 및 =으로 공백 채우기 ====ㅋㅋ====\n"
          ]
        }
      ],
      "source": [
        "# f-string 포매팅을 이용한 문자열 공백 채우기\n",
        "a = \"ㅋㅋ\"\n",
        "print(f\"좌측 정렬 및 공백 ㅎ으로 채우기 {a:ㅎ<10}\")\n",
        "print(f\"우측 정렬 및 공백 ㅎ으로 채우기 {a:ㅎ>10}\")\n",
        "print(f\"가운데 정렬 및 =으로 공백 채우기 {a:=^10}\")"
      ]
    },
    {
      "cell_type": "code",
      "execution_count": null,
      "id": "9937b738-01f7-48b1-8e61-a0ac57d6b319",
      "metadata": {
        "id": "9937b738-01f7-48b1-8e61-a0ac57d6b319",
        "outputId": "71fc0784-a7f5-4878-937d-5607ebfbe97b"
      },
      "outputs": [
        {
          "name": "stdout",
          "output_type": "stream",
          "text": [
            "3.141592\n",
            "3.1\n",
            "3.14\n",
            "3.142\n",
            "3.1416\n"
          ]
        }
      ],
      "source": [
        "# f-string 포매팅을 이용한 수수점 표현\n",
        "a = 3.141592\n",
        "print(f\"{a:f}\")\n",
        "print(f\"{a:0.1f}\")\n",
        "print(f\"{a:0.2f}\")\n",
        "print(f\"{a:0.3f}\")\n",
        "print(f\"{a:0.4f}\")"
      ]
    },
    {
      "cell_type": "code",
      "execution_count": null,
      "id": "88ed82dc-af37-4aec-84bf-89b1b184158a",
      "metadata": {
        "id": "88ed82dc-af37-4aec-84bf-89b1b184158a",
        "outputId": "60f501e8-a841-4a41-86af-ba5f241b6909"
      },
      "outputs": [
        {
          "name": "stdout",
          "output_type": "stream",
          "text": [
            "이름: 홍길동 | 키: {height} | 몸무게: {78.4}\n"
          ]
        }
      ],
      "source": [
        "# f-string 포매팅을 이용한 { } 문자 표현\n",
        "name = \"홍길동\"\n",
        "height = 174\n",
        "weight = 78.4\n",
        "print(f\"이름: {name} | 키: {{height}} | 몸무게: {{{weight}}}\")"
      ]
    },
    {
      "cell_type": "code",
      "execution_count": null,
      "id": "b56fa2f6-7e93-401f-8eed-8539b02fc9f5",
      "metadata": {
        "id": "b56fa2f6-7e93-401f-8eed-8539b02fc9f5",
        "outputId": "da030a0c-ec4c-45cc-cda1-d63e16b08441"
      },
      "outputs": [
        {
          "name": "stdout",
          "output_type": "stream",
          "text": [
            "박찬호는 키가 188cm이고 몸무게는 88.5kg 입니다.\n"
          ]
        }
      ],
      "source": [
        "# 예제 5) 포멧 코드를 이용하여 다음과 같이 출력되도록 하여라.\n",
        "# 박찬호는 키가 188cm이고 몸무게는 88.5kg 입니다.\n",
        "\n",
        "name = \"박찬호\"\n",
        "height = 188\n",
        "weight = 88.5\n",
        "\n",
        "print(\"%s는 키가 %dcm이고 몸무게는 %.1fkg 입니다.\" %(name, height, weight))"
      ]
    },
    {
      "cell_type": "code",
      "execution_count": null,
      "id": "67f2c965-5f25-4caa-a34b-35015cccaabd",
      "metadata": {
        "id": "67f2c965-5f25-4caa-a34b-35015cccaabd",
        "outputId": "9c74388b-fbe4-4fed-a063-42cc63cc467a"
      },
      "outputs": [
        {
          "name": "stdout",
          "output_type": "stream",
          "text": [
            "박찬호는 키가 188cm이고 몸무게는 88.5kg 입니다.\n"
          ]
        }
      ],
      "source": [
        "# 예제 6) format() 함수를 이용하여 다음과 같이 출력되도록 하여라.\n",
        "# 박찬호는 키가 188cm이고 몸무게는 88.5kg 입니다.\n",
        "\n",
        "name = \"박찬호\"\n",
        "height = 188\n",
        "weight = 88.5\n",
        "\n",
        "print(\"{}는 키가 {}cm이고 몸무게는 {}kg 입니다.\" .format(name, height, weight))"
      ]
    },
    {
      "cell_type": "code",
      "execution_count": null,
      "id": "c83b3dc1-a333-4439-b02a-151c8cf8a74a",
      "metadata": {
        "id": "c83b3dc1-a333-4439-b02a-151c8cf8a74a",
        "outputId": "7fde40c7-7a76-4ced-e477-34f55382588d"
      },
      "outputs": [
        {
          "name": "stdout",
          "output_type": "stream",
          "text": [
            "박찬호는 키가 188cm이고 몸무게는 88.5kg 입니다.\n"
          ]
        }
      ],
      "source": [
        "# 예제 7) f-string을 이용하여 다음과 같이 출력되도록 하여라.\n",
        "# 박찬호는 키가 188cm이고 몸무게는 88.5kg 입니다.\n",
        "\n",
        "name = \"박찬호\"\n",
        "height = 188\n",
        "weight = 88.5\n",
        "\n",
        "print(f\"{name}는 키가 {height}cm이고 몸무게는 {weight}kg 입니다.\")"
      ]
    },
    {
      "cell_type": "code",
      "execution_count": null,
      "id": "4f6f6de8-93bf-4b7c-8db1-b3e4bca2ef2e",
      "metadata": {
        "id": "4f6f6de8-93bf-4b7c-8db1-b3e4bca2ef2e",
        "outputId": "99bfe5c8-d7ca-4e76-dd44-5bc6d461fe8b"
      },
      "outputs": [
        {
          "name": "stdout",
          "output_type": "stream",
          "text": [
            "0\n",
            "3\n",
            "1\n",
            "1\n",
            "1\n",
            "i am python programming language\n",
            "2\n",
            "I AM PYTHON PROGRAMMING LANGUAGE\n",
            "2\n"
          ]
        }
      ],
      "source": [
        "# count() 함수\n",
        "a = \"I am Python programming language\"\n",
        "print(a.count(\"x\"))  # 문자가 없으면 '0' 반환\n",
        "print(a.count(\"m\"))\n",
        "print(a.count(\"Python\"))\n",
        "print(a.count(\"p\"))\n",
        "print(a.count(\"P\"))\n",
        "print((a.lower()))  # 대소문자 구분 없이 문자 개수 구하기\n",
        "print((a.lower()).count(\"p\"))\n",
        "print((a.upper()))\n",
        "print((a.upper()).count(\"P\"))"
      ]
    },
    {
      "cell_type": "code",
      "execution_count": null,
      "id": "1d19ab87-7a6a-4d0b-8ba8-1fd17233b6b0",
      "metadata": {
        "id": "1d19ab87-7a6a-4d0b-8ba8-1fd17233b6b0",
        "outputId": "1c746d12-4a53-434b-ef56-9150f0c2197a"
      },
      "outputs": [
        {
          "name": "stdout",
          "output_type": "stream",
          "text": [
            "-1\n",
            "3\n",
            "18\n",
            "-1\n",
            "5\n",
            "12\n",
            "5\n",
            "5\n",
            "5\n"
          ]
        }
      ],
      "source": [
        "# find() 함수: 찾는 문자가 없으면 '-1' 반환\n",
        "a = \"I am Python programming language\"\n",
        "print(a.find(\"x\"))         # 문자가 없으면 '-1' 반환\n",
        "print(a.find(\"m\"))\n",
        "print(a.find(\"m\", 4))      # 인덱스 4 이후에 처음 등장하는 'm'이 인덱스 18에 위치해 있기 때문입니다.\"\n",
        "print(a.find(\"m\", 4, 17))  # 4~17 번째 문자에서 찾음\n",
        "print(a.find(\"Python\"))    # 'P'의 인덱스 출력\n",
        "print(a.find(\"p\"))\n",
        "print(a.find(\"P\"))\n",
        "print((a.lower()).find(\"p\"))\n",
        "print((a.upper()).find(\"P\"))"
      ]
    },
    {
      "cell_type": "code",
      "execution_count": null,
      "id": "9a635d18-fa90-4eb8-83b0-2c0bcbf451e6",
      "metadata": {
        "id": "9a635d18-fa90-4eb8-83b0-2c0bcbf451e6",
        "outputId": "dee2860f-ea64-49ce-bb90-7f1ae7d3eac9"
      },
      "outputs": [
        {
          "ename": "ValueError",
          "evalue": "substring not found",
          "output_type": "error",
          "traceback": [
            "\u001b[1;31m---------------------------------------------------------------------------\u001b[0m",
            "\u001b[1;31mValueError\u001b[0m                                Traceback (most recent call last)",
            "Cell \u001b[1;32mIn[18], line 3\u001b[0m\n\u001b[0;32m      1\u001b[0m \u001b[38;5;66;03m# index() 함수: 찾는 문자가 없으면 'ValueError: substring not found' 오류 발생\u001b[39;00m\n\u001b[0;32m      2\u001b[0m a \u001b[38;5;241m=\u001b[39m \u001b[38;5;124m\"\u001b[39m\u001b[38;5;124mI am Python programming language\u001b[39m\u001b[38;5;124m\"\u001b[39m\n\u001b[1;32m----> 3\u001b[0m \u001b[38;5;28mprint\u001b[39m(a\u001b[38;5;241m.\u001b[39mindex(\u001b[38;5;124m\"\u001b[39m\u001b[38;5;124mx\u001b[39m\u001b[38;5;124m\"\u001b[39m))         \u001b[38;5;66;03m# 문자가 없으면 'ValueError: substring not found' 오류 발생\u001b[39;00m\n\u001b[0;32m      4\u001b[0m \u001b[38;5;28mprint\u001b[39m(a\u001b[38;5;241m.\u001b[39mindex(\u001b[38;5;124m\"\u001b[39m\u001b[38;5;124mm\u001b[39m\u001b[38;5;124m\"\u001b[39m))\n\u001b[0;32m      5\u001b[0m \u001b[38;5;28mprint\u001b[39m(a\u001b[38;5;241m.\u001b[39mindex(\u001b[38;5;124m\"\u001b[39m\u001b[38;5;124mm\u001b[39m\u001b[38;5;124m\"\u001b[39m, \u001b[38;5;241m4\u001b[39m))      \u001b[38;5;66;03m# 인덱스 4 이후에 처음 등장하는 'm'이 인덱스 18에 위치해 있기 때문입니다.\"\u001b[39;00m\n",
            "\u001b[1;31mValueError\u001b[0m: substring not found"
          ]
        }
      ],
      "source": [
        "# index() 함수: 찾는 문자가 없으면 'ValueError: substring not found' 오류 발생\n",
        "a = \"I am Python programming language\"\n",
        "print(a.index(\"x\"))         # 문자가 없으면 'ValueError: substring not found' 오류 발생\n",
        "print(a.index(\"m\"))\n",
        "print(a.index(\"m\", 4))      # 인덱스 4 이후에 처음 등장하는 'm'이 인덱스 18에 위치해 있기 때문입니다.\"\n",
        "print(a.index(\"m\", 4, 17))  # 4~17 번째 문자에서 찾음\n",
        "print(a.index(\"Python\"))    # 'P'의 인덱스 출\n",
        "print(a.index(\"p\"))\n",
        "print(a.index(\"P\"))\n",
        "print((a.lower()).index(\"p\"))\n",
        "print((a.upper()).index(\"P\"))"
      ]
    },
    {
      "cell_type": "code",
      "execution_count": null,
      "id": "189bcb8e-16e8-4e31-a54a-38cd1f6cc2d7",
      "metadata": {
        "id": "189bcb8e-16e8-4e31-a54a-38cd1f6cc2d7",
        "outputId": "8143cd5c-0a32-4f22-a123-a5f5cb901635"
      },
      "outputs": [
        {
          "name": "stdout",
          "output_type": "stream",
          "text": [
            "문자 시작 위치:  3 | 문자 끝 위치:  4\n",
            "문자 시작 위치:  18 | 문자 끝 위치:  19\n",
            "문자 시작 위치:  19 | 문자 끝 위치:  20\n"
          ]
        }
      ],
      "source": [
        "# re 모듈에서 제공하는 finditer() 함수를 이용한 동일한 문자 여러개의 위치 찾기\n",
        "import re\n",
        "a = \"I am Python programming language\"\n",
        "\n",
        "for b in re.finditer(\"m\", a):\n",
        "    print(\"문자 시작 위치: \", b.start(), \"|\", \"문자 끝 위치: \", b.end())"
      ]
    },
    {
      "cell_type": "code",
      "execution_count": null,
      "id": "7839fb65-79bd-4958-9276-81fe87037e5e",
      "metadata": {
        "id": "7839fb65-79bd-4958-9276-81fe87037e5e",
        "outputId": "eab12c3b-b040-4f43-bbb1-38a002cf030c"
      },
      "outputs": [
        {
          "name": "stdout",
          "output_type": "stream",
          "text": [
            "I. .a.m. .P.y.t.h.o.n. .p.r.o.g.r.a.m.m.i.n.g. .l.a.n.g.u.a.g.e\n",
            "I, ,a,m, ,P,y,t,h,o,n, ,p,r,o,g,r,a,m,m,i,n,g, ,l,a,n,g,u,a,g,e\n",
            "IX XaXmX XPXyXtXhXoXnX XpXrXoXgXrXaXmXmXiXnXgX XlXaXnXgXuXaXgXe\n"
          ]
        }
      ],
      "source": [
        "# join() 함수: 문자열에 문자 삽입\n",
        "a = \"I am Python programming language\"\n",
        "b = \",\"\n",
        "c = \"X\"\n",
        "print(\".\".join(a))\n",
        "print(b.join(a))\n",
        "print(c.join(a))"
      ]
    },
    {
      "cell_type": "code",
      "execution_count": null,
      "id": "b7646d71-cf31-427c-8413-45fa96420e7b",
      "metadata": {
        "id": "b7646d71-cf31-427c-8413-45fa96420e7b",
        "outputId": "acb17ad6-8929-4b85-a6d5-727ceca09aad"
      },
      "outputs": [
        {
          "name": "stdout",
          "output_type": "stream",
          "text": [
            "a.b.c.d\n",
            "a,b,c,d\n",
            "aXbXcXd\n"
          ]
        }
      ],
      "source": [
        "# join() 함수를 이용한 리스트에 문자 삽입\n",
        "a = [\"a\", \"b\", \"c\", \"d\"]\n",
        "b = \",\"\n",
        "c = \"X\"\n",
        "print(\".\".join(a))\n",
        "print(b.join(a))\n",
        "print(c.join(a))\n",
        "d = (\".\".join(a))"
      ]
    },
    {
      "cell_type": "code",
      "execution_count": null,
      "id": "f14837bc-2eb1-4173-9f00-b9c40a040db2",
      "metadata": {
        "id": "f14837bc-2eb1-4173-9f00-b9c40a040db2",
        "outputId": "5a3d1448-ca5f-4b9a-8d61-edb667e56776"
      },
      "outputs": [
        {
          "name": "stdout",
          "output_type": "stream",
          "text": [
            "1.2.3.4\n",
            "1,2,3,4\n"
          ]
        }
      ],
      "source": [
        "# 리스트가 int로 되어있는 경우, join() 함수를 이용한 리스트에 문자 삽입\n",
        "a = [1, 2, 3, 4]\n",
        "a = list(map(str, a))    # map() 함수를 활용하여 a의 모든 요소에 str()함수 적용\n",
        "b = \",\"\n",
        "print(\".\".join(a))\n",
        "print(b.join(a))"
      ]
    },
    {
      "cell_type": "code",
      "execution_count": null,
      "id": "c4f444fb-101b-4f0f-8219-7c45cf1900ba",
      "metadata": {
        "id": "c4f444fb-101b-4f0f-8219-7c45cf1900ba",
        "outputId": "0323d62b-3e34-430e-c84d-7bddf113d4d9"
      },
      "outputs": [
        {
          "name": "stdout",
          "output_type": "stream",
          "text": [
            "a.b.c.d\n",
            "a,b,c,d\n"
          ]
        }
      ],
      "source": [
        "# join() 함수를 이용한 튜플에 문자 삽입\n",
        "a = (\"a\", \"b\", \"c\", \"d\")\n",
        "b = \",\"\n",
        "print(\".\".join(a))\n",
        "print(b.join(a))"
      ]
    },
    {
      "cell_type": "code",
      "execution_count": null,
      "id": "c439b391-50a7-4b08-8821-da3dfc4883c8",
      "metadata": {
        "id": "c439b391-50a7-4b08-8821-da3dfc4883c8",
        "outputId": "af6e2fc0-3549-4828-cbb3-91c84fce80d2"
      },
      "outputs": [
        {
          "name": "stdout",
          "output_type": "stream",
          "text": [
            "1.2.3.4\n",
            "1,2,3,4\n"
          ]
        }
      ],
      "source": [
        "# 튜플이 int로 되어있는 경우, join() 함수를 이용한 튜플에 문자 삽입\n",
        "a = (1, 2, 3, 4)\n",
        "a = list(map(str ,a))\n",
        "b = \",\"\n",
        "print(\".\".join(a))\n",
        "print(b.join(a))"
      ]
    },
    {
      "cell_type": "code",
      "execution_count": null,
      "id": "414c65bc-7338-454f-a062-88cb37cf931d",
      "metadata": {
        "id": "414c65bc-7338-454f-a062-88cb37cf931d",
        "colab": {
          "base_uri": "https://localhost:8080/"
        },
        "outputId": "3e34763f-ede8-4c17-8da3-5d35d7a4af25"
      },
      "outputs": [
        {
          "output_type": "stream",
          "name": "stdout",
          "text": [
            "I am Python protramming language I$am$Python$protramming$language\n"
          ]
        }
      ],
      "source": [
        "# join() 함수를 이용한 리스트 요소들 합치기\n",
        "a = [\"I\", \"am\", \"Python\", \"protramming\", \"language\"]\n",
        "print(\" \".join(a), \"$\".join(a))"
      ]
    },
    {
      "cell_type": "code",
      "source": [
        "# upper() 함수\n",
        "a = \"I am Python programming language\"\n",
        "print(a.upper())"
      ],
      "metadata": {
        "colab": {
          "base_uri": "https://localhost:8080/"
        },
        "id": "GdlG0WpzYC6e",
        "outputId": "e2513cb3-6f9f-4058-eb5f-c4371e2f7000"
      },
      "id": "GdlG0WpzYC6e",
      "execution_count": null,
      "outputs": [
        {
          "output_type": "stream",
          "name": "stdout",
          "text": [
            "I AM PYTHON PROGRAMMING LANGUAGE\n"
          ]
        }
      ]
    },
    {
      "cell_type": "code",
      "source": [
        "# lower() 함수\n",
        "a = \"I am Python programming language\"\n",
        "print(a.lower())"
      ],
      "metadata": {
        "colab": {
          "base_uri": "https://localhost:8080/"
        },
        "id": "PxBlsuu5YYPP",
        "outputId": "d759d432-76a4-4163-d389-ecad6425118d"
      },
      "id": "PxBlsuu5YYPP",
      "execution_count": null,
      "outputs": [
        {
          "output_type": "stream",
          "name": "stdout",
          "text": [
            "i am python programming language\n"
          ]
        }
      ]
    },
    {
      "cell_type": "code",
      "source": [
        "# upper() 함수와 lower() 함수를 이용한 대소문자 구분 없이 문자열 비교\n",
        "a = \"Python\"\n",
        "b = \"python\"\n",
        "print(\"대문자/소문자 구분 비교 결과 = \", a == b)\n",
        "print(\"대문자/소문자 구분 없이 비교 결과 = \", a.upper() == b.upper())\n",
        "print(\"대문자/소문자 구분 없이 비교 결과 = \", a.lower() == b.lower())"
      ],
      "metadata": {
        "colab": {
          "base_uri": "https://localhost:8080/"
        },
        "id": "EY0sfKbLYgr8",
        "outputId": "d6c8f80e-7ad8-4cff-c055-ed35d03494f7"
      },
      "id": "EY0sfKbLYgr8",
      "execution_count": null,
      "outputs": [
        {
          "output_type": "stream",
          "name": "stdout",
          "text": [
            "대문자/소문자 구분 비교 결과 =  False\n",
            "대문자/소문자 구분 없이 비교 결과 =  True\n",
            "대문자/소문자 구분 없이 비교 결과 =  True\n"
          ]
        }
      ]
    },
    {
      "cell_type": "code",
      "source": [
        "# swapcase() 함수: 대문자를 소문자로, 소문자를 대문자로 변경\n",
        "a = \"I am Python programming language\"\n",
        "print(a.swapcase())"
      ],
      "metadata": {
        "colab": {
          "base_uri": "https://localhost:8080/"
        },
        "id": "Tb-QytnxZMTR",
        "outputId": "45a37a3e-a2fb-421b-fef1-c2569436c0a9"
      },
      "id": "Tb-QytnxZMTR",
      "execution_count": null,
      "outputs": [
        {
          "output_type": "stream",
          "name": "stdout",
          "text": [
            "i AM pYTHON PROGRAMMING LANGUAGE\n"
          ]
        }
      ]
    },
    {
      "cell_type": "code",
      "source": [
        "# capitalize() 함수: 라인 첫글자를 대문자로 변경\n",
        "a = \"python is fun\"\n",
        "print(a.capitalize())"
      ],
      "metadata": {
        "colab": {
          "base_uri": "https://localhost:8080/"
        },
        "id": "L8YJFJToZaVA",
        "outputId": "aa25979a-6f2f-4d11-9ba3-00ac9f309b9f"
      },
      "id": "L8YJFJToZaVA",
      "execution_count": null,
      "outputs": [
        {
          "output_type": "stream",
          "name": "stdout",
          "text": [
            "Python is fun\n",
            "c programming language\n"
          ]
        }
      ]
    },
    {
      "cell_type": "code",
      "source": [
        "# title() 함수: 단어 첫글자를 대분자로 변경\n",
        "a = \"python is fun\"\n",
        "print(a.title())"
      ],
      "metadata": {
        "colab": {
          "base_uri": "https://localhost:8080/"
        },
        "id": "dzmaUnhFZ1mD",
        "outputId": "7909c7d9-65f2-4e4a-fc77-85d12d4db9a8"
      },
      "id": "dzmaUnhFZ1mD",
      "execution_count": null,
      "outputs": [
        {
          "output_type": "stream",
          "name": "stdout",
          "text": [
            "Python Is Fun\n"
          ]
        }
      ]
    },
    {
      "cell_type": "code",
      "source": [
        "# lstrip() 함수: 문자열 죄측에 있는 한칸 이상 연속된 공백 삭제\n",
        "# rstrip() 함수: 문자열 우측에 있는 한칸 이상의 연속된 공백 삭제\n",
        "# strip() 함수: 문자열 양쪽에 한칸 이상의 연속된 공백 삭제\n",
        "a = \"   Python  \"\n",
        "print(\"[\" + a.lstrip() + \"]\")\n",
        "print(\"[\" + a.rstrip() + \"]\")\n",
        "print(\"[\" + a.strip() + \"]\")"
      ],
      "metadata": {
        "colab": {
          "base_uri": "https://localhost:8080/"
        },
        "id": "uxN6Mcg2aAPo",
        "outputId": "b105f697-7f93-4433-b428-958ee514785c"
      },
      "id": "uxN6Mcg2aAPo",
      "execution_count": null,
      "outputs": [
        {
          "output_type": "stream",
          "name": "stdout",
          "text": [
            "[Python  ]\n",
            "[ Python]\n",
            "[Python]\n"
          ]
        }
      ]
    },
    {
      "cell_type": "code",
      "source": [
        "# 함수 인자 1개를 이용한 좌측, 우측, 좌우측 동일한 문자 삭제\n",
        "a = \"00000I am Python programming language 000\"\n",
        "print(\"[\" + a.lstrip('0') + \"]\")\n",
        "print(\"[\" + a.rstrip('0') + \"]\")\n",
        "print(\"[\" + a.strip('0') + \"]\")"
      ],
      "metadata": {
        "colab": {
          "base_uri": "https://localhost:8080/"
        },
        "id": "2VmLJQBbawr5",
        "outputId": "703f1e09-7345-427d-f637-fe89c778dfd8"
      },
      "id": "2VmLJQBbawr5",
      "execution_count": null,
      "outputs": [
        {
          "output_type": "stream",
          "name": "stdout",
          "text": [
            "[I am Python programming language 000]\n",
            "[00000I am Python programming language ]\n",
            "[I am Python programming language ]\n"
          ]
        }
      ]
    },
    {
      "cell_type": "code",
      "source": [
        "# 함수 인자 여러개를 이용한 좌측, 우측, 좌우측 동일한 문자 삭제\n",
        "a = \"aaaabbbbcccc====ccccbbbbaaaa\"\n",
        "print(a.lstrip(\"ab\"))\n",
        "print(a.rstrip(\"ab\"))\n",
        "print(a.strip(\"ab\"))"
      ],
      "metadata": {
        "colab": {
          "base_uri": "https://localhost:8080/"
        },
        "id": "amjN9eG4Zmz6",
        "outputId": "9297f001-b26e-44f1-c846-13d786d17440"
      },
      "id": "amjN9eG4Zmz6",
      "execution_count": null,
      "outputs": [
        {
          "output_type": "stream",
          "name": "stdout",
          "text": [
            "cccc====ccccbbbbaaaa\n",
            "aaaabbbbcccc====cccc\n",
            "cccc====cccc\n"
          ]
        }
      ]
    },
    {
      "cell_type": "code",
      "source": [
        "# replace() 함수: 문자열 안에서 특정 문자를 다른 문자로 치환(대소문자 구분함)\n",
        "# 매개 변수: '검색 문자', '치환 문자', '치환 횟수'(기본값 -1(전체))\n",
        "a = \"현재 시간은 2023 년 12 월 12 일 12 시 12 분 입니다.\"\n",
        "print(a.replace(\"12\", \"8\", 1))\n",
        "print(a.replace(\"12\", \"8\", 2))\n",
        "print(a.replace(\"12\", \"8\", 3))\n",
        "print(a.replace(\"12\", \"8\", -1))\n",
        "print(a.replace(\"12\", \"8\"))"
      ],
      "metadata": {
        "colab": {
          "base_uri": "https://localhost:8080/"
        },
        "id": "xEf23fqqXwCr",
        "outputId": "c9f310a2-54f2-4995-b6b1-3700f9b46115"
      },
      "id": "xEf23fqqXwCr",
      "execution_count": null,
      "outputs": [
        {
          "output_type": "stream",
          "name": "stdout",
          "text": [
            "현재 시간은 2023 년 8 월 12 일 12 시 12 분 입니다.\n",
            "현재 시간은 2023 년 8 월 8 일 12 시 12 분 입니다.\n",
            "현재 시간은 2023 년 8 월 8 일 8 시 12 분 입니다.\n",
            "현재 시간은 2023 년 8 월 8 일 8 시 8 분 입니다.\n",
            "현재 시간은 2023 년 8 월 8 일 8 시 8 분 입니다.\n"
          ]
        }
      ]
    },
    {
      "cell_type": "code",
      "source": [
        "# replace() 함수를 이용한 특정 문자 및 공백 삭제\n",
        "a = \"%3C%73%63%69%73%63%6F%73%79%73%74\"\n",
        "b = \"3C 73 63 69 73 63 6F 73 79 73 74\"\n",
        "print(a.replace(\"%\", \"\"))\n",
        "print(b.replace(\" \", \"\"))"
      ],
      "metadata": {
        "colab": {
          "base_uri": "https://localhost:8080/"
        },
        "id": "fhR5uG8YAgvd",
        "outputId": "66fb1ccd-e955-468c-f21c-661df6c2ddec"
      },
      "id": "fhR5uG8YAgvd",
      "execution_count": null,
      "outputs": [
        {
          "output_type": "stream",
          "name": "stdout",
          "text": [
            "3C73636973636F73797374\n",
            "3C73636973636F73797374\n"
          ]
        }
      ]
    },
    {
      "cell_type": "code",
      "source": [
        "# split() 함수: 문자열을 분리하여 리스트로 구성\n",
        "a = \"I am Python programming language\"\n",
        "b = \"user1:x:1001:1001::/home/user1:/bin/bash\"\n",
        "print(a.split())\n",
        "print(b.split(\":\"))"
      ],
      "metadata": {
        "colab": {
          "base_uri": "https://localhost:8080/"
        },
        "id": "i-TMhnsqCFak",
        "outputId": "3866193b-fa89-452c-bf1a-edbb8f841d4b"
      },
      "id": "i-TMhnsqCFak",
      "execution_count": null,
      "outputs": [
        {
          "output_type": "stream",
          "name": "stdout",
          "text": [
            "['I', 'am', 'Python', 'programming', 'language']\n",
            "['user1', 'x', '1001', '1001', '', '/home/user1', '/bin/bash']\n"
          ]
        }
      ]
    },
    {
      "cell_type": "code",
      "source": [
        "### 문자열 자료형은 불변(immutable) 자료형 ###\n",
        "a = \"PYTHON\"\n",
        "print(a.lower())\n",
        "print(a)\n",
        "\n",
        "### lower() 함수 뿐만 아니라 문자열 관련 함수(upper, join, lstrip, rstrip, strip, replace, split)에 공통적으로 불변함 ###\n",
        "### 적용하기 위해서는 반환값을 동일한 변수 또는 다른 변수로 선언하여 사용 ###\n",
        "\n",
        "a = a.lower()\n",
        "print(a)"
      ],
      "metadata": {
        "colab": {
          "base_uri": "https://localhost:8080/"
        },
        "id": "OQoabOu2B8OE",
        "outputId": "a993302e-d8e7-4784-9811-7be7a1e145dd"
      },
      "id": "OQoabOu2B8OE",
      "execution_count": null,
      "outputs": [
        {
          "output_type": "stream",
          "name": "stdout",
          "text": [
            "python\n",
            "PYTHON\n",
            "python\n"
          ]
        }
      ]
    },
    {
      "cell_type": "code",
      "source": [
        "# input() 함수: 키보드 입력값을 문자열로 반환하는 함수\n",
        "user_id = input(\"username: \")\n",
        "user_pw = input(\"password: \")\n",
        "user_age = int(input(\"age: \"))\n",
        "print(\"=\" * 35)\n",
        "print(f\"입력한 아이디는 {user_id}입니다.\")\n",
        "print(f\"입력한 패스워드는 {user_pw}입니다.\")\n",
        "print(f\"입력한 나이는 {user_age}입니다.\")"
      ],
      "metadata": {
        "colab": {
          "base_uri": "https://localhost:8080/"
        },
        "id": "3P0YHWF2B5KN",
        "outputId": "e433aa09-c1bf-4564-b70e-edbd70aeb615"
      },
      "id": "3P0YHWF2B5KN",
      "execution_count": null,
      "outputs": [
        {
          "output_type": "stream",
          "name": "stdout",
          "text": [
            "username: tester\n",
            "password: abcd1234\n",
            "age: 22\n",
            "===================================\n",
            "입력한 아이디는 tester입니다.\n",
            "입력한 패스워드는 abcd1234입니다.\n",
            "입력한 나이는 22입니다.\n"
          ]
        }
      ]
    },
    {
      "cell_type": "code",
      "source": [],
      "metadata": {
        "id": "ALGwyeDOE-CJ"
      },
      "id": "ALGwyeDOE-CJ",
      "execution_count": null,
      "outputs": []
    }
  ],
  "metadata": {
    "kernelspec": {
      "display_name": "Python 3 (ipykernel)",
      "language": "python",
      "name": "python3"
    },
    "language_info": {
      "codemirror_mode": {
        "name": "ipython",
        "version": 3
      },
      "file_extension": ".py",
      "mimetype": "text/x-python",
      "name": "python",
      "nbconvert_exporter": "python",
      "pygments_lexer": "ipython3",
      "version": "3.12.4"
    },
    "colab": {
      "provenance": []
    }
  },
  "nbformat": 4,
  "nbformat_minor": 5
}